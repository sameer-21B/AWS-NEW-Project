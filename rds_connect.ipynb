{
 "cells": [
  {
   "cell_type": "code",
   "execution_count": 1,
   "metadata": {},
   "outputs": [],
   "source": [
    "import mysql.connector"
   ]
  },
  {
   "cell_type": "code",
   "execution_count": 2,
   "metadata": {},
   "outputs": [],
   "source": [
    "endpoint = 'ecom-database.cgtjo3pypznd.ap-south-1.rds.amazonaws.com'\n",
    "username = 'ingestion_user'\n",
    "password = 'UmXBmLcBy4F0zazJa25I'\n",
    "port=3306\n",
    "database = 'ecom-database'\n",
    "\n",
    "cnx = mysql.connector.connect(user=username, password=password,\n",
    "                              host=endpoint,port=port)\n",
    "\n",
    "cursor = cnx.cursor()\n",
    "#ecom-database.cgtjo3pypznd.ap-south-1.rds.amazonaws.com"
   ]
  },
  {
   "cell_type": "code",
   "execution_count": 22,
   "metadata": {},
   "outputs": [
    {
     "data": {
      "text/plain": [
       "[('information_schema',), ('mysql',), ('performance_schema',), ('sys',)]"
      ]
     },
     "execution_count": 22,
     "metadata": {},
     "output_type": "execute_result"
    }
   ],
   "source": [
    "cursor.execute('show databases;')\n",
    "cursor.fetchall()"
   ]
  },
  {
   "cell_type": "code",
   "execution_count": 18,
   "metadata": {},
   "outputs": [
    {
     "data": {
      "text/plain": [
       "True"
      ]
     },
     "execution_count": 18,
     "metadata": {},
     "output_type": "execute_result"
    }
   ],
   "source": [
    "cursor.close()"
   ]
  },
  {
   "cell_type": "code",
   "execution_count": 27,
   "metadata": {},
   "outputs": [],
   "source": [
    "cursor.execute('use ecom_data')"
   ]
  },
  {
   "cell_type": "code",
   "execution_count": 25,
   "metadata": {},
   "outputs": [],
   "source": [
    "query=\"create table ecom_data_fact(idx int,InvoiceNo varchar(50),StockCode varchar(50),Description varchar(50),Quantity varchar(50),InvoiceDate varchar(25),\\\n",
    "UnitPrice varchar(50),CustomerID varchar(20),Country varchar(50),idx_null varchar(50))\""
   ]
  },
  {
   "cell_type": "code",
   "execution_count": 28,
   "metadata": {},
   "outputs": [],
   "source": [
    "cursor.execute(query)"
   ]
  },
  {
   "cell_type": "code",
   "execution_count": null,
   "metadata": {},
   "outputs": [],
   "source": [
    "#sqoop import --connect jdbc:mysql://ecom-database.cgtjo3pypznd.ap-south-1.rds.amazonaws.com:3306/ecom_data --table ecom_data_fact --username ingestion_user --password UmXBmLcBy4F0zazJa25I --split-by idx --m 5"
   ]
  },
  {
   "cell_type": "markdown",
   "metadata": {},
   "source": [
    "### Add steps to a running emr cluster\n"
   ]
  },
  {
   "cell_type": "code",
   "execution_count": null,
   "metadata": {},
   "outputs": [],
   "source": [
    "#aws emr add-steps --cluster-id j-CUSQI1EFII2S --steps file://s3_to_hdfs.json"
   ]
  },
  {
   "cell_type": "code",
   "execution_count": null,
   "metadata": {},
   "outputs": [],
   "source": [
    "#aws emr add-steps --cluster-id j-2BMVMMYZU8OLD --steps '[{\"Name\":\"S3DistCp step\",\"Args\":[\"s3-dist-cp\",\"--s3Endpoint=s3.ap-south-1.amazonaws.com\",\"--src=s3://emr-hdfs-bkp/ecom_data_fact/\",\"--dest=hdfs:///user/hadoop/\"],\"ActionOnFailure\":\"CONTINUE\",\"Type\":\"CUSTOM_JAR\",\"Jar\":\"command-runner.jar\"}]'\n"
   ]
  },
  {
   "cell_type": "code",
   "execution_count": null,
   "metadata": {},
   "outputs": [],
   "source": []
  }
 ],
 "metadata": {
  "kernelspec": {
   "display_name": "awsenv",
   "language": "python",
   "name": "python3"
  },
  "language_info": {
   "codemirror_mode": {
    "name": "ipython",
    "version": 3
   },
   "file_extension": ".py",
   "mimetype": "text/x-python",
   "name": "python",
   "nbconvert_exporter": "python",
   "pygments_lexer": "ipython3",
   "version": "3.11.4"
  },
  "orig_nbformat": 4
 },
 "nbformat": 4,
 "nbformat_minor": 2
}
