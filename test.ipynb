{
 "cells": [
  {
   "cell_type": "code",
   "execution_count": 25,
   "metadata": {},
   "outputs": [
    {
     "name": "stdout",
     "output_type": "stream",
     "text": [
      "string is:11,st_idx:1,z:2\n",
      "string is:,st_idx:2,z:0\n",
      "string is:111,st_idx:4,z:6\n",
      "string is:11,st_idx:5,z:6\n",
      "string is:,st_idx:6,z:0\n",
      "string is:1111,st_idx:16,z:19\n",
      "string is:111,st_idx:17,z:19\n",
      "string is:11,st_idx:18,z:19\n",
      "string is:,st_idx:19,z:0\n",
      "string is:11,st_idx:22,z:23\n",
      "string is:,st_idx:23,z:0\n",
      "string is:11111111,st_idx:26,z:33\n",
      "string is:1111111,st_idx:27,z:33\n",
      "string is:111111,st_idx:28,z:33\n",
      "string is:11111,st_idx:29,z:33\n",
      "string is:1111,st_idx:30,z:33\n",
      "string is:111,st_idx:31,z:33\n",
      "string is:11,st_idx:32,z:33\n",
      "string is:,st_idx:33,z:0\n",
      "11111111 26 33\n"
     ]
    }
   ],
   "source": [
    "#s=\"110001110111110001\"\n",
    "s=\"01101110000000001111001100111111110\"\n",
    "mx=0\n",
    "final_str=\"\"\n",
    "st_idx=0\n",
    "z=0\n",
    "f_s=0\n",
    "f_e=0\n",
    "for i in range(0,len(s)):\n",
    "    if s[i]=='1':\n",
    "        st_idx=i\n",
    "        for i in range(i+1,len(s)):\n",
    "            if s[i]=='1':\n",
    "                z=i\n",
    "                #print(z)\n",
    "            elif s[i]=='0' or z==len(s)-1:\n",
    "                print(\"string is:{},st_idx:{},z:{}\".format(s[st_idx:z+1],st_idx,z))\n",
    "                end_idx=z\n",
    "                z=0\n",
    "                if len(s[st_idx:end_idx+1])>mx:\n",
    "                    final_str=s[st_idx:end_idx+1]\n",
    "                    mx=len(s[st_idx:end_idx+1])\n",
    "                    f_s=st_idx\n",
    "                    f_e=end_idx\n",
    "                break\n",
    "print(final_str,f_s,f_e)"
   ]
  },
  {
   "cell_type": "code",
   "execution_count": null,
   "metadata": {},
   "outputs": [],
   "source": []
  }
 ],
 "metadata": {
  "kernelspec": {
   "display_name": "Python 3",
   "language": "python",
   "name": "python3"
  },
  "language_info": {
   "codemirror_mode": {
    "name": "ipython",
    "version": 3
   },
   "file_extension": ".py",
   "mimetype": "text/x-python",
   "name": "python",
   "nbconvert_exporter": "python",
   "pygments_lexer": "ipython3",
   "version": "3.11.4"
  },
  "orig_nbformat": 4
 },
 "nbformat": 4,
 "nbformat_minor": 2
}
