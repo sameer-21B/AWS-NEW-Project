{
 "cells": [
  {
   "cell_type": "code",
   "execution_count": 1,
   "metadata": {},
   "outputs": [],
   "source": [
    "import boto3 as b3\n",
    "import logging\n",
    "from botocore.exceptions import ClientError"
   ]
  },
  {
   "cell_type": "code",
   "execution_count": 2,
   "metadata": {},
   "outputs": [],
   "source": [
    "logger=logging.getLogger(__name__)\n",
    "emr_client=b3.client(\"emr\")"
   ]
  },
  {
   "cell_type": "code",
   "execution_count": null,
   "metadata": {},
   "outputs": [],
   "source": [
    "def list_clstrs(cluster_id,emr_client):\n",
    "    resp=emr_client.list_clusters(ClusterStates = ['TERMINATED'])\n",
    "    return resp"
   ]
  },
  {
   "cell_type": "code",
   "execution_count": null,
   "metadata": {},
   "outputs": [],
   "source": [
    "def define_cluster(cluster_id,emr_client):\n",
    "    try:\n",
    "        resp=emr_client.describe_cluster(cluster_id=cluster_id)\n",
    "        cluster=resp['Cluster']\n",
    "        logger.info(\"Got data for cluster %s.\",cluster_id)\n",
    "    except ClientError as ce:\n",
    "        logger.info(\"Couldn't retreive information for cluster %s.\",cluster_id)\n",
    "        raise\n",
    "    else:\n",
    "        return cluster"
   ]
  },
  {
   "cell_type": "code",
   "execution_count": 4,
   "metadata": {},
   "outputs": [
    {
     "data": {
      "text/plain": [
       "'s-03725611QO4YLXY8A95V'"
      ]
     },
     "execution_count": 4,
     "metadata": {},
     "output_type": "execute_result"
    }
   ],
   "source": [
    "def add_step(cluster_id, name, script_uri, emr_client):\n",
    "    \"\"\"\n",
    "    Adds a job step for copying a file from s3 onto the master node(root directory) of the cluster.\n",
    "\n",
    "    :param cluster_id: The ID of the cluster.\n",
    "    :param name: The name of the step.\n",
    "    :param script_uri: The URI where the Python script is stored.\n",
    "    :param script_args: Arguments to pass to the Python script.\n",
    "    :param emr_client: The Boto3 EMR client object.\n",
    "    :return: The ID of the newly added step.\n",
    "    \"\"\"\n",
    "    try:\n",
    "        response = emr_client.add_job_flow_steps(\n",
    "            JobFlowId=cluster_id,\n",
    "            Steps=[{\n",
    "                'Name': name,\n",
    "                'ActionOnFailure': 'CONTINUE',\n",
    "                'HadoopJarStep': {\n",
    "                    'Jar': 'command-runner.jar',\n",
    "                    'Args': [\"bash\",\"-c\",\"aws s3 cp \" + str(script_uri) + \" /home/hadoop;chmod u+x /home/hadoop/hello_bash.sh;cd /home/hadoop;sudo mv hello_bash.sh /hello_bash.sh;cd /;sh hello_bash.sh\"]\n",
    "                }\n",
    "            }])\n",
    "        step_id = response['StepIds'][0]\n",
    "        logger.info(\"Started step with ID %s\", step_id)\n",
    "    except ClientError:\n",
    "        logger.exception(\"Couldn't start step %s with URI %s.\", name, script_uri)\n",
    "        raise\n",
    "    else:\n",
    "        return step_id\n",
    "\n",
    "add_step('j-J9564QVPLMDR','sample_shell_script_03','s3://command-scripts-01/hello_bash.sh',emr_client)\n",
    "#;chmod u+x /home/hadoop/hello_bash.sh\n",
    "#cd /home/hadoop; sh hello_bash.sh\"]"
   ]
  },
  {
   "cell_type": "code",
   "execution_count": 3,
   "metadata": {},
   "outputs": [
    {
     "data": {
      "text/plain": [
       "'s-1038974H850L4F704V3'"
      ]
     },
     "execution_count": 3,
     "metadata": {},
     "output_type": "execute_result"
    }
   ],
   "source": [
    "def add_step(cluster_id, name, script_uri, emr_client):\n",
    "    \"\"\"\n",
    "    Adds a job step for copying a file from s3 onto the master node(root directory) of the cluster.\n",
    "\n",
    "    :param cluster_id: The ID of the cluster.\n",
    "    :param name: The name of the step.\n",
    "    :param script_uri: The URI where the Python script is stored.\n",
    "    :param script_args: Arguments to pass to the Python script.\n",
    "    :param emr_client: The Boto3 EMR client object.\n",
    "    :return: The ID of the newly added step.\n",
    "    \"\"\"\n",
    "    try:\n",
    "        response = emr_client.add_job_flow_steps(\n",
    "            JobFlowId=cluster_id,\n",
    "            Steps=[{\n",
    "                'Name': name,\n",
    "                'ActionOnFailure': 'CONTINUE',\n",
    "                'HadoopJarStep': {\n",
    "                    'Jar': 'command-runner.jar',\n",
    "                    'Args': [\"bash\",\"-c\",\"aws s3 cp \" + str(script_uri) + \" /home/hadoop;chmod u+x /home/hadoop/hadoop_mv_cmd.sh;cd /home/hadoop;sudo mv hadoop_mv_cmd.sh /hadoop_mv_cmd.sh;cd /;sh hadoop_mv_cmd.sh 'mar'\"]\n",
    "                }\n",
    "            }])\n",
    "        step_id = response['StepIds'][0]\n",
    "        logger.info(\"Started step with ID %s\", step_id)\n",
    "    except ClientError:\n",
    "        logger.exception(\"Couldn't start step %s with URI %s.\", name, script_uri)\n",
    "        raise\n",
    "    else:\n",
    "        return step_id\n",
    "\n",
    "add_step('j-1NIYIYJCQ8JDI','sqoop_hadoop_mv_cmd_revised','s3://command-scripts-01/hadoop_mv_cmd.sh',emr_client)\n",
    "#;chmod u+x /home/hadoop/hello_bash.sh\n",
    "#cd /home/hadoop; sh hello_bash.sh\"]"
   ]
  },
  {
   "cell_type": "code",
   "execution_count": 4,
   "metadata": {},
   "outputs": [
    {
     "data": {
      "text/plain": [
       "'s-034151738G3YQULALU93'"
      ]
     },
     "execution_count": 4,
     "metadata": {},
     "output_type": "execute_result"
    }
   ],
   "source": [
    "def add_step(cluster_id, name, script_uri, emr_client):\n",
    "    \"\"\"\n",
    "    Adds a job step for copying a file from s3 onto the master node(root directory) of the cluster.\n",
    "\n",
    "    :param cluster_id: The ID of the cluster.\n",
    "    :param name: The name of the step.\n",
    "    :param script_uri: The URI where the Python script is stored.\n",
    "    :param script_args: Arguments to pass to the Python script.\n",
    "    :param emr_client: The Boto3 EMR client object.\n",
    "    :return: The ID of the newly added step.\n",
    "    \"\"\"\n",
    "    try:\n",
    "        response = emr_client.add_job_flow_steps(\n",
    "            JobFlowId=cluster_id,\n",
    "            Steps=[{\n",
    "                'Name': name,\n",
    "                'ActionOnFailure': 'CONTINUE',\n",
    "                'HadoopJarStep': {\n",
    "                    'Jar': 'command-runner.jar',\n",
    "                    'Args': [\"bash\",\"-c\",\"aws s3 cp \" + str(script_uri) + \" /home/hadoop;chmod u+x /home/hadoop/mysql_driver_bootstrap_action.sh;cd /home/hadoop;sudo mv mysql_driver_bootstrap_action.sh /mysql_driver_bootstrap_action.sh;cd /;sh mysql_driver_bootstrap_action.sh\"]\n",
    "                }\n",
    "            }])\n",
    "        step_id = response['StepIds'][0]\n",
    "        logger.info(\"Started step with ID %s\", step_id)\n",
    "    except ClientError:\n",
    "        logger.exception(\"Couldn't start step %s with URI %s.\", name, script_uri)\n",
    "        raise\n",
    "    else:\n",
    "        return step_id\n",
    "\n",
    "add_step('j-25PY7D3QAM26S','bootstrap_action_01','s3://command-scripts-01/bootstrap_actions/mysql_driver_bootstrap_action.sh',emr_client)\n",
    "#;chmod u+x /home/hadoop/hello_bash.sh\n",
    "#cd /home/hadoop; sh hello_bash.sh\"]"
   ]
  },
  {
   "cell_type": "code",
   "execution_count": null,
   "metadata": {},
   "outputs": [],
   "source": []
  }
 ],
 "metadata": {
  "kernelspec": {
   "display_name": "awsvenv",
   "language": "python",
   "name": "python3"
  },
  "language_info": {
   "codemirror_mode": {
    "name": "ipython",
    "version": 3
   },
   "file_extension": ".py",
   "mimetype": "text/x-python",
   "name": "python",
   "nbconvert_exporter": "python",
   "pygments_lexer": "ipython3",
   "version": "3.11.4"
  },
  "orig_nbformat": 4
 },
 "nbformat": 4,
 "nbformat_minor": 2
}
